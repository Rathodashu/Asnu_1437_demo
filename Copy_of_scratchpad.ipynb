{
  "cells": [
    {
      "cell_type": "markdown",
      "metadata": {
        "id": "view-in-github",
        "colab_type": "text"
      },
      "source": [
        "<a href=\"https://colab.research.google.com/github/Rathodashu/Asnu_1437_demo/blob/main/Copy_of_scratchpad.ipynb\" target=\"_parent\"><img src=\"https://colab.research.google.com/assets/colab-badge.svg\" alt=\"Open In Colab\"/></a>"
      ]
    },
    {
      "cell_type": "code",
      "execution_count": null,
      "metadata": {
        "colab": {
          "base_uri": "https://localhost:8080/"
        },
        "id": "lIYdn1woOS1n",
        "outputId": "9f6ee904-31e6-458a-ce97-2bb8b6a4a11f"
      },
      "outputs": [
        {
          "output_type": "stream",
          "name": "stdout",
          "text": [
            "['Ashu', 'Anushka', 'Komal']\n"
          ]
        }
      ],
      "source": [
        "# python List :\n",
        "name = ['Ashu','Anushka','Komal']\n",
        "\n",
        "print(name)"
      ]
    },
    {
      "cell_type": "code",
      "source": [
        "name.append('Janavi')\n",
        "print(name)"
      ],
      "metadata": {
        "id": "QBDWJG0Rp3CI",
        "outputId": "e05e9872-b135-4fc3-c296-e643319e2e3c",
        "colab": {
          "base_uri": "https://localhost:8080/"
        }
      },
      "execution_count": null,
      "outputs": [
        {
          "output_type": "stream",
          "name": "stdout",
          "text": [
            "['Ashu', 'Anushka', 'Komal', 'Janavi']\n"
          ]
        }
      ]
    },
    {
      "cell_type": "code",
      "source": [
        "name = ['Ashu', 'Anushka', 'Komal', 'Janavi']\n",
        "name.sort()\n",
        "print(name)"
      ],
      "metadata": {
        "id": "vxs4HtpIp-3G",
        "outputId": "2ac60bd3-f8de-40c8-d646-f845c75a7751",
        "colab": {
          "base_uri": "https://localhost:8080/"
        }
      },
      "execution_count": null,
      "outputs": [
        {
          "output_type": "stream",
          "name": "stdout",
          "text": [
            "['Anushka', 'Ashu', 'Janavi', 'Komal']\n"
          ]
        }
      ]
    },
    {
      "cell_type": "code",
      "source": [
        "name = ['Ashu', 'Anushka', 'Komal', 'Janavi']\n",
        "name.reverse()\n",
        "print(name)"
      ],
      "metadata": {
        "id": "Qpfx4zvdqM3l",
        "outputId": "75807b29-5acd-4b37-90f4-1dcccfc790d9",
        "colab": {
          "base_uri": "https://localhost:8080/"
        }
      },
      "execution_count": null,
      "outputs": [
        {
          "output_type": "stream",
          "name": "stdout",
          "text": [
            "['Janavi', 'Komal', 'Anushka', 'Ashu']\n"
          ]
        }
      ]
    },
    {
      "cell_type": "code",
      "source": [
        "name = ['Ashu', 'Anushka', 'Komal', 'Janavi']\n",
        "name.remove('Janavi')\n",
        "print(name)"
      ],
      "metadata": {
        "id": "a1JXdvZsqgFD",
        "outputId": "09786fdd-3f3b-4c07-f87e-febace760fad",
        "colab": {
          "base_uri": "https://localhost:8080/"
        }
      },
      "execution_count": null,
      "outputs": [
        {
          "output_type": "stream",
          "name": "stdout",
          "text": [
            "['Ashu', 'Anushka', 'Komal']\n"
          ]
        }
      ]
    },
    {
      "cell_type": "code",
      "source": [
        "name = ['Ashu', 'Anushka', 'Komal', 'Janavi']\n",
        "name.pop()\n",
        "print(name)"
      ],
      "metadata": {
        "id": "MN5pobe7qpPy",
        "outputId": "96df87d0-8493-409c-c0e6-6eab4cb8a82c",
        "colab": {
          "base_uri": "https://localhost:8080/"
        }
      },
      "execution_count": null,
      "outputs": [
        {
          "output_type": "stream",
          "name": "stdout",
          "text": [
            "['Ashu', 'Anushka', 'Komal']\n"
          ]
        }
      ]
    },
    {
      "cell_type": "code",
      "source": [
        "name = ['Ashu', 'Anushka', 'Komal', 'Janavi']\n",
        "name.insert(2,'Mayuri')\n",
        "print(name)"
      ],
      "metadata": {
        "id": "ySSzrVv1qzWO",
        "outputId": "5c93e9f5-083a-4f8f-9f10-8978e1c77d68",
        "colab": {
          "base_uri": "https://localhost:8080/"
        }
      },
      "execution_count": null,
      "outputs": [
        {
          "output_type": "stream",
          "name": "stdout",
          "text": [
            "['Ashu', 'Anushka', 'Mayuri', 'Komal', 'Janavi']\n"
          ]
        }
      ]
    },
    {
      "cell_type": "code",
      "source": [
        "name = ['Ashu', 'Anushka', 'Mayuri', 'Komal', 'Janavi']\n",
        "name.index('Komal')\n",
        "print(name)"
      ],
      "metadata": {
        "id": "0RtHM3vvrDNg",
        "outputId": "fadfb5ed-64cf-4089-96c8-0d51cb9db294",
        "colab": {
          "base_uri": "https://localhost:8080/"
        }
      },
      "execution_count": null,
      "outputs": [
        {
          "output_type": "stream",
          "name": "stdout",
          "text": [
            "['Ashu', 'Anushka', 'Mayuri', 'Komal', 'Janavi']\n"
          ]
        }
      ]
    },
    {
      "cell_type": "code",
      "source": [
        "from collections import namedtuple\n",
        "name = ['Ashu', 'Anushka', 'Mayuri', 'Komal', 'Janavi']\n",
        "name.extend(name)\n",
        "print(name)"
      ],
      "metadata": {
        "id": "ZS5mPGTNrTkp",
        "outputId": "3b07825d-fbda-4e95-c2f4-8c5e9de0b9ef",
        "colab": {
          "base_uri": "https://localhost:8080/"
        }
      },
      "execution_count": null,
      "outputs": [
        {
          "output_type": "stream",
          "name": "stdout",
          "text": [
            "['Ashu', 'Anushka', 'Mayuri', 'Komal', 'Janavi', 'Ashu', 'Anushka', 'Mayuri', 'Komal', 'Janavi']\n"
          ]
        }
      ]
    },
    {
      "cell_type": "code",
      "source": [
        "name = ['Ashu', 'Anushka', 'Mayuri', 'Komal', 'Janavi']\n",
        "name.count(name)\n",
        "print(name)"
      ],
      "metadata": {
        "id": "JP_oCCeirpqo",
        "outputId": "3768235b-2894-42d9-a47e-6c729a6cebee",
        "colab": {
          "base_uri": "https://localhost:8080/"
        }
      },
      "execution_count": null,
      "outputs": [
        {
          "output_type": "stream",
          "name": "stdout",
          "text": [
            "['Ashu', 'Anushka', 'Mayuri', 'Komal', 'Janavi']\n"
          ]
        }
      ]
    },
    {
      "cell_type": "code",
      "source": [
        "name = ['Ashu', 'Anushka', 'Mayuri', 'Komal', 'Janavi']\n",
        "name.copy()\n",
        "print(name)"
      ],
      "metadata": {
        "id": "heo8Wp1Uryuo",
        "outputId": "054ec1bd-b1d6-40b3-d79e-5696011afc47",
        "colab": {
          "base_uri": "https://localhost:8080/"
        }
      },
      "execution_count": null,
      "outputs": [
        {
          "output_type": "stream",
          "name": "stdout",
          "text": [
            "['Ashu', 'Anushka', 'Mayuri', 'Komal', 'Janavi']\n"
          ]
        }
      ]
    },
    {
      "cell_type": "code",
      "source": [
        "name = ['Ashu', 'Anushka', 'Mayuri', 'Komal', 'Janavi']\n",
        "name.clear()\n",
        "print(name)"
      ],
      "metadata": {
        "id": "Yh2MNGk2sALf",
        "outputId": "a6bd84c3-b9ab-4a47-82ed-badcf5a986ec",
        "colab": {
          "base_uri": "https://localhost:8080/"
        }
      },
      "execution_count": null,
      "outputs": [
        {
          "output_type": "stream",
          "name": "stdout",
          "text": [
            "[]\n"
          ]
        }
      ]
    },
    {
      "cell_type": "code",
      "source": [
        "# Python String\n",
        "# capitalize()\n",
        "text = 'hello, and welcome to our course'\n",
        "z = text.capitalize()\n",
        "print(z)"
      ],
      "metadata": {
        "id": "d9NiH5WxsIuF",
        "outputId": "0924f26b-3bd1-4388-f511-60774648b1b8",
        "colab": {
          "base_uri": "https://localhost:8080/"
        }
      },
      "execution_count": null,
      "outputs": [
        {
          "output_type": "stream",
          "name": "stdout",
          "text": [
            "Hello, and welcome to our course\n"
          ]
        }
      ]
    },
    {
      "cell_type": "code",
      "source": [
        "text = 'I am  from India an born in Maharashtra, India'\n",
        "a = text.count('India')\n",
        "print(a)"
      ],
      "metadata": {
        "id": "lsZTDbcwtQy4",
        "outputId": "23d7230c-d370-4a9b-c73d-292fba9c9c2a",
        "colab": {
          "base_uri": "https://localhost:8080/"
        }
      },
      "execution_count": null,
      "outputs": [
        {
          "output_type": "stream",
          "name": "stdout",
          "text": [
            "2\n"
          ]
        }
      ]
    },
    {
      "cell_type": "code",
      "source": [
        "text = 'I love apples, apple are my favorite fruit'\n",
        "b = text.find('apple')\n",
        "print(b)"
      ],
      "metadata": {
        "id": "dbV-yj_qtkRk",
        "outputId": "3e3f692b-af52-4b63-f1ed-955bc6c0e7f9",
        "colab": {
          "base_uri": "https://localhost:8080/"
        }
      },
      "execution_count": null,
      "outputs": [
        {
          "output_type": "stream",
          "name": "stdout",
          "text": [
            "7\n"
          ]
        }
      ]
    },
    {
      "cell_type": "code",
      "source": [
        "d = text.replace('I','We')\n",
        "print(d)"
      ],
      "metadata": {
        "id": "e45gugsMtvml",
        "outputId": "1efee313-ab71-475b-feaa-59258953754e",
        "colab": {
          "base_uri": "https://localhost:8080/"
        }
      },
      "execution_count": null,
      "outputs": [
        {
          "output_type": "stream",
          "name": "stdout",
          "text": [
            "We love apples, apple are my favorite fruit\n"
          ]
        }
      ]
    },
    {
      "cell_type": "code",
      "source": [
        "d = text.index('I')\n",
        "print(d)"
      ],
      "metadata": {
        "id": "hb9o518st41W",
        "outputId": "ea8afe2e-23cb-4fcf-c436-7293edf6e152",
        "colab": {
          "base_uri": "https://localhost:8080/"
        }
      },
      "execution_count": null,
      "outputs": [
        {
          "output_type": "stream",
          "name": "stdout",
          "text": [
            "0\n"
          ]
        }
      ]
    },
    {
      "cell_type": "code",
      "source": [
        "d = text.split()\n",
        "print(d)"
      ],
      "metadata": {
        "id": "8ifc_48puAGp",
        "outputId": "b3238015-2cbc-426d-ac6b-dc6520d30d3c",
        "colab": {
          "base_uri": "https://localhost:8080/"
        }
      },
      "execution_count": null,
      "outputs": [
        {
          "output_type": "stream",
          "name": "stdout",
          "text": [
            "['I', 'love', 'apples,', 'apple', 'are', 'my', 'favorite', 'fruit']\n"
          ]
        }
      ]
    },
    {
      "cell_type": "code",
      "source": [
        "d = text.split('a')\n",
        "print(d)"
      ],
      "metadata": {
        "id": "_HI5Am8vuENM",
        "outputId": "47c904eb-c3df-4824-dbff-f5a5cf08390e",
        "colab": {
          "base_uri": "https://localhost:8080/"
        }
      },
      "execution_count": null,
      "outputs": [
        {
          "output_type": "stream",
          "name": "stdout",
          "text": [
            "['I love ', 'pples, ', 'pple ', 're my f', 'vorite fruit']\n"
          ]
        }
      ]
    },
    {
      "cell_type": "code",
      "source": [
        "text = 'We love apples, apple are my favorite fruit'\n",
        "a = text.split()\n",
        "print(a)"
      ],
      "metadata": {
        "id": "2AZ9FkaBuIet",
        "outputId": "ea631a3e-7728-4f83-87f4-9b1f1808f9ad",
        "colab": {
          "base_uri": "https://localhost:8080/"
        }
      },
      "execution_count": null,
      "outputs": [
        {
          "output_type": "stream",
          "name": "stdout",
          "text": [
            "['We', 'love', 'apples,', 'apple', 'are', 'my', 'favorite', 'fruit']\n"
          ]
        }
      ]
    },
    {
      "cell_type": "code",
      "source": [
        "text = 'We love apples, apple are my favorite fruit'\n",
        "a = text.split(',')\n",
        "print(a)"
      ],
      "metadata": {
        "id": "A2llzi9Nub1s",
        "outputId": "9ea86886-3233-4d80-d02a-352f72ec43b2",
        "colab": {
          "base_uri": "https://localhost:8080/"
        }
      },
      "execution_count": null,
      "outputs": [
        {
          "output_type": "stream",
          "name": "stdout",
          "text": [
            "['We love apples', ' apple are my favorite fruit']\n"
          ]
        }
      ]
    },
    {
      "cell_type": "code",
      "source": [
        "text = 'company'\n",
        "name = text.isalnum()\n",
        "print(name)"
      ],
      "metadata": {
        "id": "QchqLU4gufXs",
        "outputId": "bfeb13f7-eba8-4d87-af4e-aa36b03d49db",
        "colab": {
          "base_uri": "https://localhost:8080/"
        }
      },
      "execution_count": null,
      "outputs": [
        {
          "output_type": "stream",
          "name": "stdout",
          "text": [
            "True\n"
          ]
        }
      ]
    },
    {
      "cell_type": "code",
      "source": [
        "text = 'company7'\n",
        "name = text.isalpha()\n",
        "print(name)"
      ],
      "metadata": {
        "id": "IM_at_WCuqzx",
        "outputId": "7d9e85b3-e680-488c-835e-e4dca630843d",
        "colab": {
          "base_uri": "https://localhost:8080/"
        }
      },
      "execution_count": null,
      "outputs": [
        {
          "output_type": "stream",
          "name": "stdout",
          "text": [
            "False\n"
          ]
        }
      ]
    },
    {
      "cell_type": "code",
      "source": [
        "text = '1234567'\n",
        "name = text.isdigit()\n",
        "print(name)"
      ],
      "metadata": {
        "id": "SNTUIfBIu17x",
        "outputId": "a18cc644-a358-4bc0-eae5-8fa17ebc8497",
        "colab": {
          "base_uri": "https://localhost:8080/"
        }
      },
      "execution_count": null,
      "outputs": [
        {
          "output_type": "stream",
          "name": "stdout",
          "text": [
            "True\n"
          ]
        }
      ]
    },
    {
      "cell_type": "code",
      "source": [
        "name = ['ahsu','komal','anushka','mayuri']\n",
        "joined = ' _ '.join(name)\n",
        "print(joined)"
      ],
      "metadata": {
        "id": "B1lRgPz2u-_X",
        "outputId": "5c7aa533-a4bc-43b7-f20e-55671b4b1526",
        "colab": {
          "base_uri": "https://localhost:8080/"
        }
      },
      "execution_count": null,
      "outputs": [
        {
          "output_type": "stream",
          "name": "stdout",
          "text": [
            "ahsu _ komal _ anushka _ mayuri\n"
          ]
        }
      ]
    },
    {
      "cell_type": "code",
      "source": [
        "name = 'Ashu'\n",
        "name.lower()\n",
        "print(name)"
      ],
      "metadata": {
        "id": "SoRQsUyevdGe",
        "outputId": "d0f8b418-5642-4ff2-cd57-18477627958e",
        "colab": {
          "base_uri": "https://localhost:8080/"
        }
      },
      "execution_count": null,
      "outputs": [
        {
          "output_type": "stream",
          "name": "stdout",
          "text": [
            "Ashu\n"
          ]
        }
      ]
    },
    {
      "cell_type": "code",
      "source": [
        "name = 'I love cricket'\n",
        "result = name.replace('cricket','football')\n",
        "print(result)"
      ],
      "metadata": {
        "id": "yOFp4-XcvxUN",
        "outputId": "852cc050-b37c-4b36-d6b5-3b768d600c9a",
        "colab": {
          "base_uri": "https://localhost:8080/"
        }
      },
      "execution_count": null,
      "outputs": [
        {
          "output_type": "stream",
          "name": "stdout",
          "text": [
            "I love football\n"
          ]
        }
      ]
    },
    {
      "cell_type": "code",
      "source": [
        "name = 'I love cricket'\n",
        "result = name.startswith('love')\n",
        "print(result)"
      ],
      "metadata": {
        "id": "8QVBP1U0v9mJ",
        "outputId": "8f46dcdd-507a-4e58-a1d4-b67ee0287009",
        "colab": {
          "base_uri": "https://localhost:8080/"
        }
      },
      "execution_count": null,
      "outputs": [
        {
          "output_type": "stream",
          "name": "stdout",
          "text": [
            "False\n"
          ]
        }
      ]
    },
    {
      "cell_type": "code",
      "source": [
        "# Python Control conditional statement\n",
        "\n",
        "# if, elif, else statements :\n",
        "\n",
        "a, b = 33, 200\n",
        "if b > a:\n",
        "  print(\"b is greater than a\")\n"
      ],
      "metadata": {
        "id": "T0NKS73QwIyY",
        "outputId": "7a302a93-6ad6-4388-d2dd-92f830c4b1d4",
        "colab": {
          "base_uri": "https://localhost:8080/"
        }
      },
      "execution_count": null,
      "outputs": [
        {
          "output_type": "stream",
          "name": "stdout",
          "text": [
            "b is greater than a\n"
          ]
        }
      ]
    },
    {
      "cell_type": "code",
      "source": [
        "aman, vinod = 80, 75\n",
        "if aman > vinod:\n",
        "  print(\"aman is greater than vinod\")\n",
        "elif aman == vinod:\n",
        "  print(\"aman and vinod are equal\")\n",
        "else:\n",
        "  print(\"vinod is greater than aman\")"
      ],
      "metadata": {
        "id": "s7LomA-rw6AK",
        "outputId": "dc5dc103-b090-4a3d-b0cf-0695c4f493ce",
        "colab": {
          "base_uri": "https://localhost:8080/"
        }
      },
      "execution_count": null,
      "outputs": [
        {
          "output_type": "stream",
          "name": "stdout",
          "text": [
            "aman is greater than vinod\n"
          ]
        }
      ]
    },
    {
      "cell_type": "code",
      "source": [
        "marks = 45\n",
        "\n",
        "if marks >= 35:\n",
        "  print(\"Pass\")\n",
        "else:\n",
        "  print(\"Fail\")\n"
      ],
      "metadata": {
        "id": "cmu1Oa4HxYVv",
        "outputId": "50edeb93-ee83-4468-ccf5-df0bbaf518f6",
        "colab": {
          "base_uri": "https://localhost:8080/"
        }
      },
      "execution_count": null,
      "outputs": [
        {
          "output_type": "stream",
          "name": "stdout",
          "text": [
            "Pass\n"
          ]
        }
      ]
    },
    {
      "cell_type": "code",
      "source": [],
      "metadata": {
        "id": "nu5rlewbybKp"
      },
      "execution_count": null,
      "outputs": []
    }
  ],
  "metadata": {
    "colab": {
      "provenance": [],
      "include_colab_link": true
    },
    "kernelspec": {
      "display_name": "Python 3",
      "name": "python3"
    }
  },
  "nbformat": 4,
  "nbformat_minor": 0
}